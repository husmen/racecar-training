{
 "cells": [
  {
   "cell_type": "markdown",
   "metadata": {
    "colab_type": "text",
    "id": "O-C4yZ8Gxwfv"
   },
   "source": [
    "# Safety Controllers\n",
    "In this document we will process the vehicle to accelerate and decelerate in a stable manner."
   ]
  },
  {
   "cell_type": "markdown",
   "metadata": {
    "colab_type": "text",
    "id": "Qt6DajAkxwfw"
   },
   "source": [
    "### What is Safety Controllers\n",
    "If we go through the sample, the speed of our car is 0, so it stops. When we moved, we wrote a code that we would go with 10 m / s in the future. Here the car can not suddenly reach this speed. It has to increase at a certain threshold. If we think of our threshold value as 1, our vehicle should accelerate to 0-1-2-3 ... 8-9-10. When we go to 10 m / s the speed will not suddenly become zero. Sudden locking of the wheels can even cause the vehicle to get out of the way. Especially at high speeds is an important issue."
   ]
  },
  {
   "cell_type": "code",
   "execution_count": 0,
   "metadata": {
    "colab": {
     "autoexec": {
      "startup": false,
      "wait_interval": 0
     }
    },
    "colab_type": "code",
    "collapsed": true,
    "id": "m85SJKv3xwfx"
   },
   "outputs": [],
   "source": [
    "#!/usr/bin/python\n",
    "#\n",
    "\n",
    "import rospy\n",
    "from ackermann_msgs.msg import AckermannDriveStamped\n",
    "\n",
    "class SafetyControllerNode:\n",
    "    def __init__(self):\n",
    "        # subscribe to incomming Ackermann drive commands\n",
    "        rospy.Subscriber(\"ackermann_cmd_input\", AckermannDriveStamped,\n",
    "                         self.ackermann_cmd_input_callback)\n",
    "\n",
    "        # publisher for the safe Ackermann drive command\n",
    "        self.cmd_pub = rospy.Publisher(\"ackermann_cmd\", AckermannDriveStamped, queue_size=10)\n",
    "\n",
    "    def ackermann_cmd_input_callback(self, msg):\n",
    "        # republish the input as output (not exactly \"safe\")\n",
    "        self.cmd_pub.publish(msg)\n",
    "\n",
    "if __name__ == \"__main__\":\n",
    "    rospy.init_node(\"safety_controller\")\n",
    "    \n",
    "    node = SafetyControllerNode()\n",
    "    \n",
    "    rospy.spin()"
   ]
  },
  {
   "cell_type": "markdown",
   "metadata": {
    "colab_type": "text",
    "id": "vmV1EVnsxwf4"
   },
   "source": [
    "Implement this application on the speed control node in your vehicle."
   ]
  }
 ],
 "metadata": {
  "colab": {
   "default_view": {},
   "name": "LAB1 – Safety Controllers.ipynb",
   "provenance": [],
   "version": "0.3.2",
   "views": {}
  },
  "kernelspec": {
   "display_name": "Python [default]",
   "language": "python",
   "name": "python2"
  },
  "language_info": {
   "codemirror_mode": {
    "name": "ipython",
    "version": 2
   },
   "file_extension": ".py",
   "mimetype": "text/x-python",
   "name": "python",
   "nbconvert_exporter": "python",
   "pygments_lexer": "ipython2",
   "version": "2.7.14"
  }
 },
 "nbformat": 4,
 "nbformat_minor": 1
}
