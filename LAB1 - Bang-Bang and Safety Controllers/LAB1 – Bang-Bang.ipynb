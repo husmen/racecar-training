{
 "cells": [
  {
   "cell_type": "markdown",
   "metadata": {},
   "source": [
    "# Bang-Bang \n",
    "In this document we will handle moving the vehicle according to the basic Lidar unit."
   ]
  },
  {
   "cell_type": "markdown",
   "metadata": {},
   "source": [
    "### What is Lidar \n",
    "There are varieties that vary according to the lidar property, rotating 360 degrees and looking fixed at a certain angle. The 360 degrees we use in our car, and each turn gives us the distances around it in the form of an arraylist.\n"
   ]
  },
  {
   "cell_type": "markdown",
   "metadata": {},
   "source": [
    "Here is the turning of the vehicle to the right and left according to the distance of the right and left objects (in this example wall). If there is an object to the left, the right angle will be sent to the right if there is an object to the left."
   ]
  },
  {
   "cell_type": "code",
   "execution_count": null,
   "metadata": {
    "collapsed": true
   },
   "outputs": [],
   "source": [
    "#!/usr/bin/env python\n",
    "\n",
    "\n",
    "import rospy\n",
    "import math\n",
    "import numpy\n",
    "\n",
    "\n",
    "from ackermann_msgs.msg import AckermannDriveStamped # Engine Messages\n",
    "from sensor_msgs.msg import LaserScan, Joy # Joystick and Lidar Messages\n",
    "class WallE():\n",
    "\n",
    "    angle=0\n",
    "    \n",
    "    def getError(self,goal,L,begin,end):\n",
    "        return goal-(min(L[begin:end]))\n",
    "    \n",
    "    \n",
    "    def getSteeringCmd(self,error,threshold,fullLeft,fullRight):\n",
    "        if(abs(error)<threshold):\n",
    "            return 0\n",
    "        elif error>0:\n",
    "            return fullLeft\n",
    "        else:\n",
    "            return fullRight\n",
    "    \n",
    "\n",
    "    def callback(self,msg):\n",
    "        #Get Lidar Information\n",
    "        error=self.getError(.4, msg.ranges, 540, 930)\n",
    "        self.angle=self.getSteeringCmd(error, .03, -1, 1)\n",
    "        \n",
    "    def shutdown(self):\n",
    "        rospy.loginfo(\"Car is Stopped \")\n",
    "        \n",
    "        self.drive.publish(AckermannDriveStamped())\n",
    "        rospy.sleep(1)\n",
    "    \n",
    "    def __init__(self):\n",
    "        \n",
    "        rospy.init_node('wall_bang', anonymous=False)\n",
    "        rospy.on_shutdown(self.shutdown)\n",
    "        \n",
    "        \n",
    "        rate = 10 \n",
    "        r = rospy.Rate(rate)\n",
    "        \n",
    "        \n",
    "        self.drive = rospy.Publisher('/vesc/ackermann_cmd_mux/input/navigation', AckermannDriveStamped, queue_size=5)\n",
    "        \n",
    "        \n",
    "        rospy.Subscriber('scan', LaserScan, self.callback)\n",
    "        \n",
    "    \n",
    "        speed = 0.5 # fixed speed rate in meters / second\n",
    "        dist_trav = 20.0 # way to go\n",
    "        \n",
    "        #I've written the fields in the steering message of ackermann (to go straight)\n",
    "        drive_cmd = AckermannDriveStamped()\n",
    "        drive_cmd.drive.speed = speed\n",
    "        drive_cmd.drive.steering_angle = self.angle\n",
    "      \n",
    "        \n",
    "        #the main transaction cycle (works as far as the path to go)\n",
    "        time = dist_trav / speed\n",
    "        ticks = int(time * rate) \n",
    "        for t in range(ticks):\n",
    "        #while True: The vehicle can be used for continuous operation, not for constant distance.\n",
    "            \n",
    "\n",
    "            drive_cmd.drive.steering_angle=self.angle\n",
    "            \n",
    "            self.drive.publish(drive_cmd) #we send the motor what to do.\n",
    "            r.sleep() \n",
    "       \n",
    "        self.drive.publish(AckermannDriveStamped())\n",
    "        \n",
    "if __name__ == '__main__':\n",
    "\n",
    "    WallE()\n"
   ]
  },
  {
   "cell_type": "markdown",
   "metadata": {},
   "source": [
    "Run this application by editing it according to the lidar in your car."
   ]
  }
 ],
 "metadata": {
  "kernelspec": {
   "display_name": "Python [default]",
   "language": "python",
   "name": "python2"
  },
  "language_info": {
   "codemirror_mode": {
    "name": "ipython",
    "version": 2
   },
   "file_extension": ".py",
   "mimetype": "text/x-python",
   "name": "python",
   "nbconvert_exporter": "python",
   "pygments_lexer": "ipython2",
   "version": "2.7.14"
  }
 },
 "nbformat": 4,
 "nbformat_minor": 2
}
