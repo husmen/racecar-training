{
 "cells": [
  {
   "cell_type": "markdown",
   "metadata": {
    "colab_type": "text",
    "id": "j5zuR36SeLQp"
   },
   "source": [
    "###  Streaming Video with OpenCV\n",
    "\n",
    "In this document we will process the sending of images with ROS as subject.\n",
    "\n",
    "Our goal here is, for example, we have a single camera in our project, but at the same time we need to use this camera on more than one node.But the camera can only be used in one place. For this we use this camera with a node and publish the images, and we need to read this publication where we need it to solve this problem.\n",
    "\n",
    "We write the following steps in the terminal with sequence."
   ]
  },
  {
   "cell_type": "markdown",
   "metadata": {
    "colab_type": "text",
    "id": "w0y58TZxeLQq"
   },
   "source": [
    "###  Create ROS workspace"
   ]
  },
  {
   "cell_type": "code",
   "execution_count": 0,
   "metadata": {
    "colab": {
     "autoexec": {
      "startup": false,
      "wait_interval": 0
     }
    },
    "colab_type": "code",
    "collapsed": true,
    "id": "EDMuBP7neLQq"
   },
   "outputs": [],
   "source": [
    "mkdir -p ~/catkin_ws/src\n",
    "cd ~/catkin_ws\n",
    "catkin_make"
   ]
  },
  {
   "cell_type": "markdown",
   "metadata": {
    "colab_type": "text",
    "id": "WFo8ydNaeLQt"
   },
   "source": [
    "### Source the environment"
   ]
  },
  {
   "cell_type": "code",
   "execution_count": 0,
   "metadata": {
    "colab": {
     "autoexec": {
      "startup": false,
      "wait_interval": 0
     }
    },
    "colab_type": "code",
    "collapsed": true,
    "id": "dnS2KRZFeLQv"
   },
   "outputs": [],
   "source": [
    "source devel/setup.bash   "
   ]
  },
  {
   "cell_type": "markdown",
   "metadata": {
    "colab_type": "text",
    "id": "HlRsOP3_eLQx"
   },
   "source": [
    "### Crating packages"
   ]
  },
  {
   "cell_type": "code",
   "execution_count": 0,
   "metadata": {
    "colab": {
     "autoexec": {
      "startup": false,
      "wait_interval": 0
     }
    },
    "colab_type": "code",
    "collapsed": true,
    "id": "0kNVoHlUeLQy"
   },
   "outputs": [],
   "source": [
    "cd src/\n",
    "catkin_create_pkg publisher std_msgs sensor_msgs rospy roscpp #Create publisher node\n",
    "catkin_create_pkg subscriber std_msgs sensor_msgs rospy roscpp #Create subscriber node"
   ]
  },
  {
   "cell_type": "markdown",
   "metadata": {
    "colab_type": "text",
    "id": "Pn2fW6speLQ1"
   },
   "source": [
    "### Creating Python files\n",
    "Now we create a python file for the Publisher node. We are entering the src folder in the Publisher package. We create our python file with the code \"touch publisher.py\" and make it executable with the command \"chmod + x publisher.py\". After we write the necessary codes, we do the same for Subscriber node."
   ]
  },
  {
   "cell_type": "markdown",
   "metadata": {
    "colab_type": "text",
    "id": "dlHY5rS7eLQ1"
   },
   "source": [
    "## Publisher code"
   ]
  },
  {
   "cell_type": "code",
   "execution_count": 0,
   "metadata": {
    "colab": {
     "autoexec": {
      "startup": false,
      "wait_interval": 0
     }
    },
    "colab_type": "code",
    "collapsed": true,
    "id": "fb_9bGwgeLQ3"
   },
   "outputs": [],
   "source": [
    "#!/usr/bin/python\n",
    "# -*- coding: utf-8 -*-\n",
    "\n",
    "\t\t\t\n",
    "import numpy as np\n",
    "import os \n",
    "import time\n",
    "\n",
    "import rospy\n",
    "from sensor_msgs.msg import Image\n",
    "\n",
    "import cv2\n",
    "from cv_bridge import CvBridge, CvBridgeError\n",
    "\n",
    "import rospkg\n",
    "import sys\n",
    "import rospy\n",
    "\n",
    "\n",
    "def talker():\n",
    "    \n",
    "    pub = rospy.Publisher('/cam_frame', Image, queue_size=1)\n",
    "    rospy.init_node('publisher', anonymous=True)\n",
    "    #cam = cv2.VideoCapture(0)\n",
    "    while not rospy.is_shutdown():\n",
    "        try:\n",
    "            #meta, frame = cam.read() \n",
    "            frame = cv2.imread(\"img2.jpg\")\n",
    "            msg_frame = CvBridge().cv2_to_imgmsg(frame)  #We are making the necessary conversion to publish with the official Ros. We turned it into the Ros message.\n",
    "\n",
    "            pub.publish(msg_frame)\n",
    "            print (\"Picture send\")\n",
    "   \n",
    "            time.sleep(0.1) #We send the pictures in 0.1 seconds.\n",
    "            except Exception as e:\n",
    "            print(\"Error : \",e)\n",
    "\n",
    "\n",
    "if __name__ == '__main__':\n",
    "\n",
    "    try:\n",
    "        talker()\n",
    "    except rospy.ROSInterruptException:\n",
    "        pass\n",
    "\n",
    "    rospy.spin()\n"
   ]
  },
  {
   "cell_type": "markdown",
   "metadata": {
    "colab_type": "text",
    "id": "2DzqnPzceLQ5"
   },
   "source": [
    "## Subscriber code"
   ]
  },
  {
   "cell_type": "code",
   "execution_count": 0,
   "metadata": {
    "colab": {
     "autoexec": {
      "startup": false,
      "wait_interval": 0
     }
    },
    "colab_type": "code",
    "collapsed": true,
    "id": "ey7BFqWdeLQ6"
   },
   "outputs": [],
   "source": [
    "#!/usr/bin/python\n",
    "# -*- coding: utf-8 -*-\n",
    "\n",
    "import rospy\n",
    "import cv2\n",
    "\n",
    "\n",
    "from sensor_msgs.msg import Image\n",
    "from cv_bridge import CvBridge, CvBridgeError\n",
    "bridge = CvBridge()\n",
    "\n",
    "def image_callback(msg):\n",
    "    img = bridge.imgmsg_to_cv2(msg) #I have turned this message into a picture because the incoming data is the message of ro.\n",
    "    #cv2.imshow('incoming image', img)\n",
    "    #cv2.waitKey(0)\n",
    "    #cv2.destroyAllWindows()\n",
    "    print (img.shape)\n",
    "   \n",
    "  \n",
    "\n",
    "def main():\n",
    "    global pub_angle\n",
    "    rospy.init_node('subscriber', anonymous=True)\n",
    "    rospy.Subscriber(\"/cam_frame\", Image, image_callback, queue_size=1)\n",
    "    rospy.spin()\n",
    "\n",
    "if __name__ == '__main__':\n",
    "    main()\n",
    "\n",
    "\n"
   ]
  },
  {
   "cell_type": "markdown",
   "metadata": {
    "colab_type": "text",
    "id": "B-7EjmzJeLQ9"
   },
   "source": [
    "### Now we run the codes in 3 different terminals with the following order."
   ]
  },
  {
   "cell_type": "code",
   "execution_count": 0,
   "metadata": {
    "colab": {
     "autoexec": {
      "startup": false,
      "wait_interval": 0
     }
    },
    "colab_type": "code",
    "collapsed": true,
    "id": "uQhadm2FeLQ-"
   },
   "outputs": [],
   "source": [
    "cd catkin-ws/\n",
    "source devel/setup.bash\n",
    "roscore\n",
    "\n",
    "\n",
    "cd catkin-ws/\n",
    "source devel/setup.bash\n",
    "rosrun publisher publisher.py\n",
    "\n",
    "\n",
    "\n",
    "cd catkin-ws/\n",
    "source devel/setup.bash\n",
    "rosrun subscriber subscriber.py\n"
   ]
  },
  {
   "cell_type": "markdown",
   "metadata": {
    "colab_type": "text",
    "id": "XGM_Rx3WeLRB"
   },
   "source": [
    "In this code we continuously read and publish a picture in the folder. Now you have to send the images from the camera by examining the codes above that you need to do."
   ]
  },
  {
   "cell_type": "code",
   "execution_count": 0,
   "metadata": {
    "colab": {
     "autoexec": {
      "startup": false,
      "wait_interval": 0
     }
    },
    "colab_type": "code",
    "collapsed": true,
    "id": "cODLXAnteLRD"
   },
   "outputs": [],
   "source": []
  }
 ],
 "metadata": {
  "colab": {
   "default_view": {},
   "name": "LAB3 - Streaming Video with OpenCV.ipynb",
   "provenance": [],
   "version": "0.3.2",
   "views": {}
  },
  "kernelspec": {
   "display_name": "Python [default]",
   "language": "python",
   "name": "python2"
  },
  "language_info": {
   "codemirror_mode": {
    "name": "ipython",
    "version": 2
   },
   "file_extension": ".py",
   "mimetype": "text/x-python",
   "name": "python",
   "nbconvert_exporter": "python",
   "pygments_lexer": "ipython2",
   "version": "2.7.14"
  }
 },
 "nbformat": 4,
 "nbformat_minor": 1
}
