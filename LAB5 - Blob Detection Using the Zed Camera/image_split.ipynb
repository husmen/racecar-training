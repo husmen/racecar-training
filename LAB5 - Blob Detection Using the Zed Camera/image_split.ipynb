{
 "cells": [
  {
   "cell_type": "markdown",
   "metadata": {},
   "source": [
    "Divides two photographs taken in one frame into two.\n"
   ]
  },
  {
   "cell_type": "code",
   "execution_count": 1,
   "metadata": {
    "collapsed": true
   },
   "outputs": [],
   "source": [
    "import os\n",
    "from random import randint\n",
    "import cv2"
   ]
  },
  {
   "cell_type": "code",
   "execution_count": 2,
   "metadata": {
    "collapsed": true
   },
   "outputs": [],
   "source": [
    "new_image_path = \"D:/DeepLearningDataset/0014/\"#The location of the pictures taken from Zed camera"
   ]
  },
  {
   "cell_type": "code",
   "execution_count": 3,
   "metadata": {
    "collapsed": true
   },
   "outputs": [],
   "source": [
    "index=0\n",
    "def splitAndChange(path):\n",
    "    global index\n",
    "    img = cv2.imread(path)\n",
    "    left=img[:,:672]# double-view split (left side)\n",
    "    right=img[:,672:]#double-view split (right side)\n",
    "    \n",
    "    cv2.imwrite(new_image_path+'images/nesne_adi_left_'+str(index)+\".jpg\",left)\n",
    "    #left image saved You must give the part that writes the object name as your own object name\n",
    "    cv2.imwrite(new_image_path+'images/nesne_adi_right_'+str(index)+\".jpg\",right)\n",
    "    #right image saved You must give the part that writes the object name as your own object name\n",
    "   \n",
    "    index=index+1"
   ]
  },
  {
   "cell_type": "code",
   "execution_count": 4,
   "metadata": {
    "collapsed": true
   },
   "outputs": [],
   "source": [
    "for ann in sorted(os.listdir(new_image_path)):\n",
    "    if ann.find(\".jpg\") != -1:\n",
    "        ann = new_image_path+ann\n",
    "        splitAndChange(ann)"
   ]
  },
  {
   "cell_type": "code",
   "execution_count": null,
   "metadata": {
    "collapsed": true
   },
   "outputs": [],
   "source": []
  }
 ],
 "metadata": {
  "anaconda-cloud": {},
  "kernelspec": {
   "display_name": "Python [default]",
   "language": "python",
   "name": "python2"
  },
  "language_info": {
   "codemirror_mode": {
    "name": "ipython",
    "version": 2
   },
   "file_extension": ".py",
   "mimetype": "text/x-python",
   "name": "python",
   "nbconvert_exporter": "python",
   "pygments_lexer": "ipython2",
   "version": "2.7.14"
  }
 },
 "nbformat": 4,
 "nbformat_minor": 2
}
