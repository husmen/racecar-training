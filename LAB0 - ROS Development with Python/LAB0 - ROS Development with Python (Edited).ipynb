{
 "cells": [
  {
   "cell_type": "markdown",
   "metadata": {},
   "source": [
    "# What is ROS ?\n",
    "\n",
    "ROS(Robot Operation System) is not Operation  System(OS).ROS is a BSD-licensed software system that allows you to control robotic components on a computer.That is open source software.Ros needs Linux based Operation System for you to use ROS. The purpose of this application is to provide robot relationship with programmer.ROS supports library written by developers except ROS's standard library so ROS is constantly developing."
   ]
  },
  {
   "cell_type": "markdown",
   "metadata": {},
   "source": [
    "# What does the ROS do ?\n",
    "\n",
    "ROS is a software that is widely used in robots. ROS's purpose is to develop a piece of software that can work on other robots by making very little changes to the code. Thanks to ROS, a standard algorithm written for a standard robot will be able to run at load-and-use speed. The data from the robotic sensors will be sent to the computer via ROS. The data processed on the computer will be returned to robot as task. \n",
    "This communication system will be done with the help of topics and messages in the ROS interface. ROS works to compatible with the Gazebo simulation environment. In this way, the Gazebo simulation environment can be used for rapid development to test the data structure of the project into prototype stage ROS Package.\n",
    "\n",
    "Summary\n",
    "\n",
    "* ROS allows complex robotic systems to handle software development problems.\n",
    "\n",
    "* ROS accelerated robotic research and development, especially prototyping\n",
    "* Exceptional ability to think.\n",
    "\n",
    "* ROS focuses on supporting the again of components.\n",
    "\n",
    "* The ROS software system consists of many packages "
   ]
  },
  {
   "cell_type": "markdown",
   "metadata": {},
   "source": [
    "# Computational Graph\n",
    "\n",
    "\n",
    "* ROS uses modular, peer-to-peer design.\n",
    "* read data from a sensor, calculate a localization algorithm, plan a route to a destination, etc.\n",
    "* Laser scanning, robot position, speed commands, occupancy map, etc.\n",
    "* \"ROS computational graph\" balancing processes network.\n",
    "* Robot application can live much  than 100 of ROS's process.\n",
    "\n",
    "A sample robot application (navigation on the known map):\n",
    "\n",
    "\n",
    "![1.png](attachment:1.png)\n",
    "     "
   ]
  },
  {
   "cell_type": "markdown",
   "metadata": {},
   "source": [
    "\n",
    "# Nodes, Messages and Headers\n",
    " \n",
    "• Nodes : Processes that process in the ROS system!\n",
    "– Corner points in the ROS operation chart\n",
    "– ROS is created by adding and launching the client library to the source code of the program.\n",
    "\n",
    "• eg: roscpp for C ++, rospy for Python (also rosjava, roslisp, roslua) - each event must have its own name (text string)\n",
    "– It must also be a species\n",
    "– filesystem location of the executable\n",
    "\n",
    "• Messages : Data packets sent between ROS nodes\n",
    "– The species consists of certain areas,data structures defined in files identified as .msg\n",
    "\n",
    "• It is like the 'C' constructions.\n",
    "– It is converted customer language than data structures during build / compile.\n",
    "\n",
    "• Headers : Named one-way communication links between ROS nodes.\n",
    "– Creates edges in ROS process chart\n",
    "– Header are named(textstring)\n",
    "– One or more nodes can broadcast a message to a head\n",
    "– One or more nodes can receive messages in a header\n",
    "– Each title is tied to a single message.\n",
    "– It is created dynamically by the ROS nodes at the time of the transaction (using the ROS customer)\n",
    "\n",
    "\n",
    "![2.png](attachment:2.png)"
   ]
  },
  {
   "cell_type": "markdown",
   "metadata": {},
   "source": [
    "The ROS's head-based spreading / receiving mechanism works in one-way so broadcast and many-to-many communications"
   ]
  },
  {
   "cell_type": "markdown",
   "metadata": {},
   "source": [
    "# ROS Root (Main) Process\n",
    "• Coordinates communication links between ROS nodes - Enables name registration for process charts.\n",
    "\n",
    "• Must be running before any node functions\n",
    "\n",
    "• May be running on a different computer, ROS supports multi-device systems\n",
    "\n",
    "• To start the ROS root process:\n",
    "** roscore** \n",
    "\n",
    "![3.png](attachment:3.png)\n",
    "\n",
    "![4.png](attachment:4.png)\n",
    "\n",
    "![5.png](attachment:5.png)\n",
    "\n",
    "![6.png](attachment:6.png)\n",
    "\n",
    "![7.png](attachment:7.png)"
   ]
  },
  {
   "cell_type": "markdown",
   "metadata": {},
   "source": [
    "# ROS Services\n",
    "\n",
    "• The publish / subscribe, many-to-many, unidirectional header model works well for many situations.\n",
    "\n",
    "• The request / reply model is better for some situations\n",
    "\n",
    "Equal to remote procedure call [remote procedure call (RPC)]\n",
    "Request / Request: The customer node sends a command and / or data to the supplier node\n",
    "Reply / Reply: supplier node sends back the customer node return\n",
    "Example - prepare a calibration matrix of a camera, get approval for success.\n",
    "\n",
    "• Services: Request / replymodelininrosuygul OF THE\n",
    "\n",
    "Service naming\n",
    "\n",
    "• Supply node notifies service with name\n",
    "\n",
    "• Customer node calls service with name\n",
    "\n",
    "• Performs ROS root name registration\n",
    "\n",
    "Type is defined in .srv files\n",
    "\n",
    "• Similar to .msg files, but includes both tales and coeval\n",
    "\n",
    "• Fast respond / no blocking (service call can not be pre-paid)\n",
    "\n",
    "• Limitations: not registered, difficult to review\n",
    "\n",
    "• Seldom uses"
   ]
  },
  {
   "cell_type": "markdown",
   "metadata": {},
   "source": [
    "# Graphics Resource Names\n",
    " \n",
    "• Graphical Resource Names are very important in creating a ROS system\n",
    "\n",
    "-Node names, header names, service names, parameter names\n",
    "\n",
    "• Names use to combine transactional graphics:\n",
    "![8.png](attachment:8.png)\n",
    "\n",
    "• Names use to store information query and information from the transaction graph, for example:\n",
    "- What does the \"/ talker\" node publish?\n",
    "- Save messages from the title \"/ image\"\n",
    "\n",
    "\n",
    "• Use a hierarchical structure for ROS names\n",
    "- Each level of the hierarchy is called a namespace\n",
    "- Levels are separated by \"/\", the leading \"/\" is the global name space\n",
    "- Examples:\n",
    "/ odom - odom is the global (/) namespace\n",
    "/ robot1 / hokuyo - hokuyo is in the / robot1 namespace / camera / rgb / image_color - image_color is in the / camera / rgb namespace\n",
    "- namespace names conflicts, eg: / left_arm / position vs.. / Right_arm / position\n",
    "Nodes and starting texts can be associated and specially found in the ATF in their own namespaces:\n",
    "Relative (default): the node is resolved in the namespace\n",
    "- Private: node name is suppressed to a namespace with name\n"
   ]
  },
  {
   "cell_type": "code",
   "execution_count": null,
   "metadata": {
    "collapsed": true
   },
   "outputs": [],
   "source": []
  },
  {
   "cell_type": "markdown",
   "metadata": {},
   "source": [
    "# Beginning (and Stop) ROS Nodes\n",
    " \n",
    "• Beginning nodes are not practical for runtime graphics on their own\n",
    "- Technically, we can call each executable directly (But ROS also requires of command line arguments)\n",
    "\n",
    "• ROS provides various programs to start and stop processes\n",
    "\n",
    "• **roscore** – run the ROS root process\n",
    "\n",
    "• **rosrun** – run individual nodes\n",
    "\n",
    "- Syntax: rosrun PACKAGE EXCUTABLE [ARGUMENTS]\n",
    "- For Example: rosrun turtlesim turtlesim_node _background_b:=212\n",
    "\n",
    "• **roslaunch** – start multiple nodes for each .launch file\n",
    "\n",
    "- The default action is to start the ROS root function if it is not already running.\n",
    "- Syntax: roslaunch [OPTIONS] [PACKAGE] FILENAME\n",
    "- For Example: roslaunch turtlebot_bringup turtlebot.launch\n",
    "\n",
    "• Control+C stops usually nodes/roslaunch\n",
    "\n",
    "• rqt’s launch plugin – graphically, launch multiple nodes for each .launch file\n",
    "\n",
    "- How does it do :  “ROS Launch GUI” after rqt\n",
    "- At active development stage\n",
    "\n",
    "• Configuration files in XML format\n",
    "- .launch extension\n",
    "\n",
    "• Command-line tools:\n",
    "- **rosnode** – Information in ROS nodes (publications, records)\n",
    "rosnode list; rosnode info /map_server; rosnode ping --all\n",
    "- **rostopic** – Information on ROS title\n",
    "rostopiclist;rostopicecho/odom;rostopic hz/odom;\n",
    "rostopic bw /odom; rostopic pub /chatter std_msgs/String “hello”\n",
    "\n",
    "\n",
    "\n"
   ]
  },
  {
   "cell_type": "markdown",
   "metadata": {},
   "source": [
    "# Important folders"
   ]
  },
  {
   "cell_type": "markdown",
   "metadata": {},
   "source": [
    "**/home/racecar**  -> You work usually this directory (or in its subdirectories )\n",
    "\n",
    "**~/racecar-ws **    -> we will use this directory for the vehicle\n",
    "\n",
    "**~/.ros/log **       ->We will create the ROS log files here\n",
    "\n",
    "**/tmp **            ->System temporary folder. This content is deleted when the computer restarts.Handy for temporary files.\n",
    "\n",
    "**/opt/ros/kinetic** ->ROS installation directory.\n"
   ]
  },
  {
   "cell_type": "code",
   "execution_count": null,
   "metadata": {
    "collapsed": true
   },
   "outputs": [],
   "source": []
  },
  {
   "cell_type": "markdown",
   "metadata": {},
   "source": [
    "# ROS Environment Variables\n",
    "\n",
    "• ROS uses several environment variables to set node and vehicle behavior.\n",
    "- For Details :http://www.ros.org/wiki/ROS/EnvironmentVariables\n",
    "\n",
    "• Something usually dont work, these are the reasons;\n",
    "- Often in ~/.bashrc \n",
    "- ~/.bashrc core runs every start\n",
    "- We set ROS environment for beginner on laptop and VM\n",
    "\n",
    "• ROS_MASTER_URI:\n",
    "- Network location for Ros master operation,eg:http://localhost:11311/\n",
    "\n",
    "• ROS_PACKAGE_PATH:\n",
    "- Colon-separated list of filesystem directories tosearch \n",
    "\n",
    "• shortcut for rosenv\"env | grep ROS\" "
   ]
  },
  {
   "cell_type": "markdown",
   "metadata": {},
   "source": [
    "# Navigation between ROS Packages\n",
    "\n",
    "• Users often have many ROS packages in many places\n",
    "\n",
    "• Usually you need to:\n",
    "- Jump from one package to another\n",
    "\n",
    "• rosbash suite – fast navigation between packages & command line tools for use\n",
    "\n",
    "- roscd - replace a directory with a package name • Örnek: roscd robot_spinner/src\n",
    "- rospd - roscd un pushd karşılığı\n",
    "- rosd - list of directory indexes\n",
    "- rosls - list of ROS package folder\n",
    "- rosed - arrange a file in a package\n",
    "- roscp - copy a file in a package\n",
    "- rosrun - run executable files in a ros package\n",
    "\n",
    "• rospack – get detailed information about a package\n",
    "- For Example: rospack find robot_spinner\n",
    "              rospack depends robot_spinner\n",
    "- roscd copy function: cd `rospack find robot_spinner`/src"
   ]
  },
  {
   "cell_type": "markdown",
   "metadata": {},
   "source": [
    "# Creating a Package\n",
    " **catkin_create_pkg** Create a catkin package with the this command\n",
    "- Fill in  package.xml ve CmakeLists.txt folder.\n",
    "- Alternatively, you can create your package from scratch by writing your own package.xml and CMakeLists.txt files from scratch.\n",
    "- **catkin_create_pkg NAME [DEPEND_1] [DEPEND_2] ... [DEPEND_N]**\n",
    "- **catkin_create_pkg robot_spinner roscpp geometry_msgs**\n",
    "\n",
    "**package.xml**\n",
    "- package metadata supporting documentation, compilation, and distribution\n",
    "- Mandatory elements: name, description, version, license\n",
    "- Optional: writers, URLs, dependencies, plugins ...\n",
    "\n",
    "**CMakeLists.txt** \n",
    "\n",
    "• The main CMake file used to package\n",
    "\n",
    "- package.xml dosyasını“okur”\n",
    "\n",
    "- find other catkin packages to access / add libraries to libraries\n",
    "\n",
    "- Sends objects out to other packages connected to you."
   ]
  },
  {
   "cell_type": "markdown",
   "metadata": {},
   "source": [
    "# CMakeLists.txt\n",
    "\n",
    "• complicated and difficult to understand\n",
    "\n",
    "• The template created with catkin_create_pkg is quite descriptive\n",
    "- It is very long, it contains many features of the catkin.\n",
    "\n",
    "• Typical workflows:\n",
    "**catkin_create_pkg** template, edit the relevant lines and uncomment\n",
    "- Find a similar package and copy / edit the CMakeLists.txt file for your program"
   ]
  },
  {
   "cell_type": "markdown",
   "metadata": {},
   "source": [
    "# ROS Business areas\n",
    "\n",
    "• folders for modifying, installing, and running one or more source packages.\n",
    "- with special directory structure understood by ROs tools\n",
    "\n",
    "• the packages in the business areas are usually associated with the function or project.\n",
    "- For example: All source packages required for the RACECAR project\n",
    "- Also: all the main packages I am maintaining\n",
    "\n",
    "• Business area packages are created with a command\n",
    "- usually faster than creating each package separately\n",
    "\n",
    "• User can have more than one business\n",
    "- for example, a work area for each project, temporary work areas for rapid changes\n",
    "\n",
    "• activate a business field by writing setup.bash text\n",
    "- must be welded at each terminal\n",
    "- Backstage:\n",
    "- Behind the scenes: adds the business domain index to the ROS path environment variable\n",
    "\n",
    "\n",
    "• Active business area \"layouts\" is installed in packages\n",
    "- you can change, install and run the installed packages\n",
    "\n",
    "• The VM / laptop ** ~ / racecar-ws ** directory is a ROS business area.\n",
    "\n",
    "\n",
    "\n",
    "# Create ROS Business Area\n",
    "\n",
    "• \n",
    "• ** catkin_init_workspace ** - start a catkin business area by creating a \"top-level\" CMakeLists.txt file\n",
    "- Call the workspace_name / src directory\n",
    "\n",
    "• catkin_make - set up a catkin business area\n",
    "- create directory structure for an empty business area\n",
    "\n",
    "• create a business park named \"example_ws\" in the user's home directory:\n",
    "\n",
    "  + ** mkdir -p ~ / example_ws / src ** -> create the business domain directory\n",
    "    ** cd ~ / example_ws / src **\n",
    "    \n",
    "  + ** catkin_init_workspace ** -> creates a top-level CMakeLists.txt file\n",
    "    ** cd ~ / example_ws / **\n",
    "    \n",
    "  + ** catkin_make ** -> create workspace text\n",
    "\n",
    "  + ** source ~ / example_ws / devel / setup.bash ** -> activate new business area / \"source\"\n",
    "      - orusebashdotoperator:. ~ / example_ws / devel / setup.bash\n",
    "      \n",
    "• Note: Do not create a business domain under another business domain directory"
   ]
  },
  {
   "cell_type": "markdown",
   "metadata": {},
   "source": [
    "# Business area\n",
    "• \n",
    "(ROS tools [catkin_make, etc] will do most of the work of creating and filling these directories)\n",
    "\n",
    "- **example_ws/**    -- WORKSPACE\n",
    "    - **src/**           -- SOURCE SPACE\n",
    "    - **build/**         -- BUILD SPACE\n",
    "    - **devel/**        -- DEVELOPMENT SPACE  \n",
    "    - **install/**       -- INSTALL SPACE\n",
    "    \n",
    "    \n",
    "- Resource Area:\n",
    "\n",
    "    - Includes source code for one or more packages. It can be a source code created by the user or elsewhere (svn, git, etc.). The field is not changed when installing the package.\n",
    "\n",
    "\n",
    "![9.png](attachment:9.png)\n",
    "\n",
    "- Building Area:\n",
    "    \n",
    "    \n",
    "- The directory where CMake's source files are installed.\n",
    "    \n",
    "    \n",
    "- Development Area:  \n",
    "\n",
    "    - Includes targets installed in a similar directory layout. It also includes layout setup texts.\n",
    "  \n",
    "  \n",
    "![10.png](attachment:10.png)  \n",
    "    \n",
    "- Installation Area: \n",
    "\n",
    "     The directory for installing the target (catkin_make install). Packages / packages are useful for getting the distribution ready. The layout for the target includes installation texts.\n",
    "    \n",
    "![11.png](attachment:11.png)    \n",
    "    \n",
    "    "
   ]
  },
  {
   "cell_type": "markdown",
   "metadata": {},
   "source": [
    "We used the roskin version of the race car project, the necessary installation procedures should be done accordingly.\n",
    "\n",
    "\n",
    "For installation you can perform the necessary actions from http://wiki.ros.org/kinetic/Installation/Ubuntu \n",
    "or you can apply the following commands.\n",
    "\n",
    "- sudo sh -c 'echo \"deb http://packages.ros.org/ros/ubuntu $(lsb_release -sc) main\" > /etc/apt/sources.list.d/ros-latest.list'\n",
    "- sudo apt-key adv --keyserver hkp://ha.pool.sks-keyservers.net:80 --recv-key 421C365BD9FF1F717815A3895523BAEEB01FA116\n",
    "- sudo apt-get update\n",
    "- sudo apt-get install ros-kinetic-desktop-full\n",
    "- apt-cache search ros-kinetic\n",
    "- sudo rosdep init\n",
    "- rosdep update\n",
    "- echo \"source /opt/ros/kinetic/setup.bash\" >> ~/.bashrc\n",
    "- source ~/.bashrc\n",
    "\n",
    "\n",
    "\n"
   ]
  },
  {
   "cell_type": "markdown",
   "metadata": {
    "collapsed": true
   },
   "source": [
    "\n",
    "# ROS Simple Publisher and Subscriber Writing"
   ]
  },
  {
   "cell_type": "markdown",
   "metadata": {},
   "source": [
    "\n",
    "We will make a small application so that the \"Publisher\" and \"Subscriber\" structures can be understood better.\n",
    "\n",
    "Publisher will publish a randomly generated number of nodes. In the Subscriber node, it will read and print the square root of the number in the terminal.\n"
   ]
  },
  {
   "cell_type": "markdown",
   "metadata": {},
   "source": [
    "\n",
    "### Creating the ROS workspace"
   ]
  },
  {
   "cell_type": "code",
   "execution_count": null,
   "metadata": {
    "collapsed": true
   },
   "outputs": [],
   "source": [
    "mkdir -p ~/catkin_ws/src\n",
    "cd ~/catkin_ws\n",
    "catkin_make"
   ]
  },
  {
   "cell_type": "markdown",
   "metadata": {},
   "source": [
    "#### has 3 folders in it"
   ]
  },
  {
   "cell_type": "code",
   "execution_count": null,
   "metadata": {
    "collapsed": true
   },
   "outputs": [],
   "source": [
    "\n",
    "build    # Object files and so on. \n",
    "devel    # Connection library etc.\n",
    "src      # Source folder"
   ]
  },
  {
   "cell_type": "markdown",
   "metadata": {},
   "source": [
    "### Make"
   ]
  },
  {
   "cell_type": "code",
   "execution_count": null,
   "metadata": {
    "collapsed": true
   },
   "outputs": [],
   "source": [
    "catkin_make    #make (empty project)\n",
    "               #catkin_make makes the build process\n",
    "               #run when new project run in catkin_ws directory"
   ]
  },
  {
   "cell_type": "markdown",
   "metadata": {},
   "source": [
    "### Source the environment"
   ]
  },
  {
   "cell_type": "code",
   "execution_count": null,
   "metadata": {
    "collapsed": true
   },
   "outputs": [],
   "source": [
    "\n",
    "cd devel\n",
    "./setup.bash    # Do the resource provisioning (add this project to the neighborhood, you may need to do this in the ssh session)"
   ]
  },
  {
   "cell_type": "markdown",
   "metadata": {},
   "source": [
    "### Creating packages"
   ]
  },
  {
   "cell_type": "code",
   "execution_count": null,
   "metadata": {
    "collapsed": true
   },
   "outputs": [],
   "source": [
    "cd catkin_ws/src/\n",
    "catkin_create_pkg beginner_tutorials std_msgs rospy roscpp    #std_msg, rospy and roscpp are dependencies for beginner_tutorials"
   ]
  },
  {
   "cell_type": "markdown",
   "metadata": {},
   "source": [
    "### The created batch is entered and the encoding is done"
   ]
  },
  {
   "cell_type": "code",
   "execution_count": null,
   "metadata": {
    "collapsed": true
   },
   "outputs": [],
   "source": [
    "cd beginner_tutorials/src"
   ]
  },
  {
   "cell_type": "markdown",
   "metadata": {},
   "source": [
    "## For the sample application, we create the subscriber and publisher folders and write the code.\n"
   ]
  },
  {
   "cell_type": "markdown",
   "metadata": {},
   "source": [
    "### subscriber.py"
   ]
  },
  {
   "cell_type": "code",
   "execution_count": null,
   "metadata": {
    "collapsed": true
   },
   "outputs": [],
   "source": [
    "#!/usr/bin/env python\n",
    "import rospy\n",
    "from std_msgs.msg import String\n",
    "\n",
    "def callback(data):\n",
    "    veri=int(data.data)\n",
    "    rospy.loginfo(\"coming number %s => Square of number : %s \",veri,veri*veri)\n",
    "\n",
    "def listener():\n",
    "\n",
    "    # In ROS, nodes are uniquely named. If two nodes with the same\n",
    "    # node are launched, the previous one is kicked off. The\n",
    "    # anonymous=True flag means that rospy will choose a unique\n",
    "    # name for our 'listener' node so that multiple listeners can\n",
    "    # run simultaneously.\n",
    "    rospy.init_node('listener', anonymous=True)\n",
    "\n",
    "    rospy.Subscriber(\"chatter\", String, callback)\n",
    "\n",
    "    # spin() simply keeps python from exiting until this node is stopped\n",
    "    rospy.spin()\n",
    "\n",
    "if __name__ == '__main__':\n",
    "    listener()"
   ]
  },
  {
   "cell_type": "markdown",
   "metadata": {},
   "source": [
    "### publisher.py\n"
   ]
  },
  {
   "cell_type": "code",
   "execution_count": null,
   "metadata": {
    "collapsed": true
   },
   "outputs": [],
   "source": [
    "#!/usr/bin/env python\n",
    "# license removed for brevity\n",
    "import rospy\n",
    "from std_msgs.msg import String\n",
    "import random\n",
    "\n",
    "def talker():\n",
    "    pub = rospy.Publisher('chatter', String , queue_size=10)\n",
    "    rospy.init_node('talker', anonymous=True)\n",
    "    rate = rospy.Rate(10) # 10hz\n",
    "    while not rospy.is_shutdown():\n",
    "        random_sayi = random.randint(0, 9)\n",
    "        random_str = \"Random Number : %s\" % random_sayi\n",
    "        rospy.loginfo(random_str)\n",
    "        pub.publish(str(random_sayi))\n",
    "        rate.sleep()\n",
    "\n",
    "if __name__ == '__main__':\n",
    "    try:\n",
    "        talker()\n",
    "    except rospy.ROSInterruptException:\n",
    "        pass"
   ]
  },
  {
   "cell_type": "markdown",
   "metadata": {},
   "source": [
    "### we get permission to run the user\n"
   ]
  },
  {
   "cell_type": "code",
   "execution_count": null,
   "metadata": {
    "collapsed": true
   },
   "outputs": [],
   "source": [
    "chmod +x publisher.py subscriber.py    # we made the python file executable"
   ]
  },
  {
   "cell_type": "markdown",
   "metadata": {},
   "source": [
    "### creating the project\n"
   ]
  },
  {
   "cell_type": "code",
   "execution_count": null,
   "metadata": {
    "collapsed": true
   },
   "outputs": [],
   "source": [
    "cd ~/catkin_ws    # cd <project folder>"
   ]
  },
  {
   "cell_type": "markdown",
   "metadata": {},
   "source": [
    "### Roscore will run and publisher.py will start running with talker\n"
   ]
  },
  {
   "cell_type": "code",
   "execution_count": null,
   "metadata": {
    "collapsed": true
   },
   "outputs": [],
   "source": [
    "roscore     #the generated talker and listener codes are executed.\n",
    "\n",
    "source ./devel/setup.bash\n",
    "\n",
    "rosrun beginner_tutorials publisher.py\n"
   ]
  },
  {
   "cell_type": "markdown",
   "metadata": {},
   "source": [
    "![15.png](attachment:15.png)"
   ]
  },
  {
   "cell_type": "markdown",
   "metadata": {},
   "source": [
    "### broadcast (talker) listening controls\n"
   ]
  },
  {
   "cell_type": "code",
   "execution_count": null,
   "metadata": {
    "collapsed": true
   },
   "outputs": [],
   "source": [
    "rosnode list\n",
    "rosnode info /talker     #find out what topics it outputs\n",
    "\n",
    "rostopic list    #list the topics. see the one before\n",
    "rostopic info /chatter\n",
    "rostopic echo /chatter"
   ]
  },
  {
   "cell_type": "markdown",
   "metadata": {},
   "source": [
    "### Now listen to the broadcast listener\n"
   ]
  },
  {
   "cell_type": "code",
   "execution_count": null,
   "metadata": {
    "collapsed": true
   },
   "outputs": [],
   "source": [
    "source ./devel/setup.bash\n",
    "rosrun beginner_tutorial subscriber.py"
   ]
  },
  {
   "cell_type": "markdown",
   "metadata": {},
   "source": [
    "![14.png](attachment:14.png)"
   ]
  },
  {
   "cell_type": "markdown",
   "metadata": {},
   "source": [
    "### Roslaunch folder is prepared as follows"
   ]
  },
  {
   "cell_type": "code",
   "execution_count": null,
   "metadata": {
    "collapsed": true
   },
   "outputs": [],
   "source": [
    "<launch>\n",
    "    <node name=\"talker\" pkg=\"tutorial\" type=\"publisher.py\" output=\"screen\"/>\n",
    "    <node name=\"listener\" pkg=\"tutorial\" type=\"subscriber.py\" output=\"screen\"/>\n",
    "\n",
    "</launch>"
   ]
  }
 ],
 "metadata": {
  "kernelspec": {
   "display_name": "Python [default]",
   "language": "python",
   "name": "python2"
  },
  "language_info": {
   "codemirror_mode": {
    "name": "ipython",
    "version": 2
   },
   "file_extension": ".py",
   "mimetype": "text/x-python",
   "name": "python",
   "nbconvert_exporter": "python",
   "pygments_lexer": "ipython2",
   "version": "2.7.14"
  }
 },
 "nbformat": 4,
 "nbformat_minor": 2
}
